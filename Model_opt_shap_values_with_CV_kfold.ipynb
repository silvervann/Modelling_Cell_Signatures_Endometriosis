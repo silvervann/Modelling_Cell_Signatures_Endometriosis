{
  "cells": [
    {
      "cell_type": "markdown",
      "metadata": {
        "id": "view-in-github",
        "colab_type": "text"
      },
      "source": [
        "<a href=\"https://colab.research.google.com/github/silvervann/Modelling_Cell_Signatures_Endometriosis/blob/main/Model_opt_shap_values_with_CV_kfold.ipynb\" target=\"_parent\"><img src=\"https://colab.research.google.com/assets/colab-badge.svg\" alt=\"Open In Colab\"/></a>"
      ]
    },
    {
      "cell_type": "markdown",
      "metadata": {
        "id": "PesCnIl6vmoE"
      },
      "source": [
        "This is the Python code to implement the model training with Gridsearch and K-fold cross-validation, and, compute Out-of-Fold SHAP values  per sample"
      ]
    },
    {
      "cell_type": "code",
      "execution_count": null,
      "metadata": {
        "id": "4exqfq7yLvf-"
      },
      "outputs": [],
      "source": [
        "from google.colab import drive\n",
        "drive.mount('/content/drive')"
      ]
    },
    {
      "cell_type": "code",
      "execution_count": null,
      "metadata": {
        "collapsed": true,
        "id": "tK8nbI3JwcQ1"
      },
      "outputs": [],
      "source": [
        "# 2. Import Libraries\n",
        "import numpy as np\n",
        "import pandas as pd\n",
        "from sklearn.datasets import make_classification\n",
        "from sklearn.model_selection import StratifiedKFold, GridSearchCV\n",
        "from sklearn.metrics import roc_auc_score\n",
        "from lightgbm import LGBMClassifier\n",
        "import shap\n"
      ]
    },
    {
      "cell_type": "code",
      "execution_count": null,
      "metadata": {
        "colab": {
          "base_uri": "https://localhost:8080/"
        },
        "id": "4I9_gM-aS62E",
        "outputId": "7274ccd2-1c2c-481b-e1bd-a4f151231293"
      },
      "outputs": [
        {
          "name": "stdout",
          "output_type": "stream",
          "text": [
            "0.46.0\n"
          ]
        }
      ],
      "source": [
        "# print(shap.__version__)"
      ]
    },
    {
      "cell_type": "code",
      "execution_count": null,
      "metadata": {
        "id": "cBlDikGlxAvQ"
      },
      "outputs": [],
      "source": [
        "# 3. Load and Preprocess Data\n",
        "\n",
        "# Load dataset\n",
        "data_cleaned = pd.read_csv('/content/data_cleaned_w_cluster.csv')\n",
        "\n",
        "# Remove first column, in case contains the index from the ouput from R\n",
        "# data_cleaned.drop(columns=data_cleaned.columns[:2], axis=1, inplace=True)\n",
        "\n",
        "# Use this code to create 4 or 6 groups of risk based on BMI\n",
        "# Define BMI categories\n",
        "# def categorize_bmi_risk (bmi):\n",
        "#     if bmi < 25 :\n",
        "#         return '< 25'\n",
        "#     elif 25 <= bmi < 30:\n",
        "#         return '25-30'\n",
        "#     else:\n",
        "#         return '> 30'\n",
        "\n",
        "# data_cleaned['BMI_Classification'] = data_cleaned['BMI'].apply(categorize_bmi_risk)\n",
        "\n",
        "\n",
        "# Perform one-hot encoding for vital_status or DSS\n",
        "# data_cleaned['vital_status_encoded'] = data_cleaned['vital_status'].map({'Alive': 0, 'Dead': 1})\n",
        "data_cleaned['DSS_status'] = data_cleaned['DSS'].map({0 : 'DSS_Alive', 1: 'DSS_Dead'})\n",
        "\n",
        "# np.unique(y)\n",
        "\n",
        "# Handle missing values\n",
        "data_cleaned.fillna(data_cleaned.median(numeric_only=True), inplace=True)  # Impute numerical values"
      ]
    },
    {
      "cell_type": "markdown",
      "source": [
        "*2*. Define model & hyperparameter grid"
      ],
      "metadata": {
        "id": "yaQh7cqxW2AC"
      }
    },
    {
      "cell_type": "code",
      "source": [
        "param_grid = {\n",
        "    'num_leaves': [15, 31],\n",
        "    'max_depth': [-1, 5, 10],\n",
        "    'learning_rate': [0.05, 0.1],\n",
        "    'n_estimators': [100, 200]\n",
        "}\n",
        "\n",
        "lgb_estimator = LGBMClassifier(random_state=42)\n",
        "cv_inner = StratifiedKFold(n_splits=5, shuffle=True, random_state=42)\n",
        "grid_search = GridSearchCV(estimator=lgb_estimator,\n",
        "                           param_grid=param_grid,\n",
        "                           cv=cv_inner,\n",
        "                           scoring='roc_auc',\n",
        "                           verbose=0,\n",
        "                           n_jobs=-1)\n"
      ],
      "metadata": {
        "id": "_iqw1P9YWyE6"
      },
      "execution_count": null,
      "outputs": []
    },
    {
      "cell_type": "markdown",
      "source": [
        "3. Outer cross-validation loop with SHAP value computatio"
      ],
      "metadata": {
        "id": "af6wPWgHW6uZ"
      }
    },
    {
      "cell_type": "code",
      "source": [
        "cv_outer = StratifiedKFold(n_splits=5, shuffle=True, random_state=42)\n",
        "\n",
        "shap_values_all_folds = []\n",
        "y_true_all_folds = []\n",
        "y_pred_all_folds = []\n",
        "\n",
        "for train_idx, test_idx in cv_outer.split(X, y):\n",
        "    X_train, X_test = X.iloc[train_idx], X.iloc[test_idx]\n",
        "    y_train, y_test = y.iloc[train_idx], y.iloc[test_idx]\n",
        "\n",
        "    # Grid search to find best model\n",
        "    grid_search.fit(X_train, y_train)\n",
        "    best_model = grid_search.best_estimator_\n",
        "\n",
        "    # Predict and store results\n",
        "    y_pred = best_model.predict_proba(X_test)[:, 1]\n",
        "    y_pred_all_folds.extend(y_pred)\n",
        "    y_true_all_folds.extend(y_test)\n",
        "\n",
        "    # SHAP values (TreeExplainer)\n",
        "    explainer = shap.TreeExplainer(best_model)\n",
        "    shap_values = explainer.shap_values(X_test)[1]  # Class 1\n",
        "    shap_values_all_folds.append(shap_values)\n"
      ],
      "metadata": {
        "id": "4XT8h8cKW-hd"
      },
      "execution_count": null,
      "outputs": []
    }
  ],
  "metadata": {
    "accelerator": "TPU",
    "colab": {
      "gpuType": "V28",
      "provenance": [],
      "authorship_tag": "ABX9TyNfO0j2RtqCbTuYZH2tckop",
      "include_colab_link": true
    },
    "kernelspec": {
      "display_name": "Python 3",
      "name": "python3"
    },
    "language_info": {
      "name": "python"
    }
  },
  "nbformat": 4,
  "nbformat_minor": 0
}